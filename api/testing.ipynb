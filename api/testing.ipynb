{
 "cells": [
  {
   "cell_type": "code",
   "execution_count": 2,
   "metadata": {},
   "outputs": [],
   "source": [
    "import json\n",
    "with open('tests/vehicles_data.json', 'r') as f:\n",
    "        test_data = json.loads(f.read())\n",
    "\n",
    "with open('tests/vin_data.json', 'r') as f:\n",
    "        vin_data = json.loads(f.read())\n",
    "\n"
   ]
  },
  {
   "cell_type": "code",
   "execution_count": 3,
   "metadata": {},
   "outputs": [
    {
     "name": "stdout",
     "output_type": "stream",
     "text": [
      "<class 'dict'>\n",
      "<class 'dict'>\n"
     ]
    }
   ],
   "source": [
    "print(type(test_data))\n",
    "print(type(vin_data))"
   ]
  },
  {
   "cell_type": "code",
   "execution_count": null,
   "metadata": {},
   "outputs": [],
   "source": [
    "hmm = {}\n",
    "tmp = []\n",
    "for dealer in range(0, len(t)):\n",
    "  for k, v in t[dealer].items():\n",
    "    if 'vehicles' in k:\n",
    "      hmm = t[dealer]\n",
    "      for i in range(0, len(v)):\n",
    "        # print(t[dealer]['vehicles'][i])\n",
    "        tmp.append({**t[dealer], **t[dealer]['vehicles'][i]})\n",
    "\n",
    "for i in range(0, len(tmp)):\n",
    "  del tmp[i]['vehicles']\n",
    "  "
   ]
  },
  {
   "cell_type": "code",
   "execution_count": null,
   "metadata": {},
   "outputs": [],
   "source": [
    "json.dumps(tmp)"
   ]
  },
  {
   "cell_type": "code",
   "execution_count": 1,
   "metadata": {},
   "outputs": [],
   "source": [
    "import json\n",
    "\n",
    "def flatten_api_results(input_data: str):\n",
    "  # hmm = {}\n",
    "  tmp = []\n",
    "  # print(type(input_data))\n",
    "  input_data = input_data['data'][0]['dealerInfo']\n",
    "  print(len(input_data))\n",
    "  if input_data:\n",
    "    for dealer in range(0, len(input_data)):\n",
    "      for k, v in input_data[dealer].items():\n",
    "        if 'vehicles' in k and v is not None:\n",
    "          # hmm = input_data[dealer]\n",
    "          for i in range(0, len(v)):\n",
    "            # print(v)\n",
    "            tmp.append({**input_data[dealer], **input_data[dealer]['vehicles'][i]})\n",
    "\n",
    "    for i in range(0, len(tmp)):\n",
    "        del tmp[i]['vehicles']\n",
    "\n",
    "    return json.dumps(tmp)\n",
    "  else:\n",
    "    return json.dumps({})"
   ]
  },
  {
   "cell_type": "code",
   "execution_count": 7,
   "metadata": {},
   "outputs": [
    {
     "data": {
      "text/plain": [
       "False"
      ]
     },
     "execution_count": 7,
     "metadata": {},
     "output_type": "execute_result"
    }
   ],
   "source": [
    "d = json.loads('{\"status\":\"SUCCESS\",\"data\":[{\"modelYear\":2022,\"yrSerCd\":\"20225\",\"dealerInfo\":null}]}')\n",
    "\n",
    "input_data = d['data'][0]['dealerInfo']\n",
    "\n",
    "bool(input_data)\n"
   ]
  },
  {
   "cell_type": "code",
   "execution_count": null,
   "metadata": {},
   "outputs": [],
   "source": [
    "json.dumps(data)"
   ]
  }
 ],
 "metadata": {
  "interpreter": {
   "hash": "f317c8447cdeb4e3cd44030ddaa05f9e7e6fc9835401aea9398e19503e13cc9a"
  },
  "kernelspec": {
   "display_name": "Python 3.9.9 64-bit ('ioniq': venv)",
   "language": "python",
   "name": "python3"
  },
  "language_info": {
   "codemirror_mode": {
    "name": "ipython",
    "version": 3
   },
   "file_extension": ".py",
   "mimetype": "text/x-python",
   "name": "python",
   "nbconvert_exporter": "python",
   "pygments_lexer": "ipython3",
   "version": "3.9.9"
  },
  "orig_nbformat": 4
 },
 "nbformat": 4,
 "nbformat_minor": 2
}
